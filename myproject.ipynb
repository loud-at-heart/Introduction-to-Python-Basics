{
 "cells": [
  {
   "cell_type": "markdown",
   "metadata": {},
   "source": [
    "## Introduction\n",
    "Python can be easy to pick up whether you're a first time programmer or you're experienced with other languages.   \n",
    "The following pages are a useful first step to get on your way writing programs with Python!"
   ]
  },
  {
   "cell_type": "code",
   "execution_count": 1,
   "metadata": {},
   "outputs": [
    {
     "output_type": "stream",
     "name": "stdout",
     "text": "Hello World!\nLet's Learn Python by Understanding the Basics\n"
    }
   ],
   "source": [
    "'''\n",
    "The Shree Ganesh to every Programming Language\n",
    "'''\n",
    "print('Hello World!')\n",
    "'''\n",
    "comments are very important for effective writability\n",
    "'#' are used to give single line comment\n",
    "'''\n",
    "'''\n",
    "multiline comments \n",
    "'''\n",
    "#printing in one line\n",
    "print(\"Let's Learn Python\", end =\" \")\n",
    "print(\"by Understanding the Basics\")"
   ]
  },
  {
   "cell_type": "markdown",
   "metadata": {},
   "source": [
    "## I/O operations in python"
   ]
  },
  {
   "cell_type": "code",
   "execution_count": 17,
   "metadata": {},
   "outputs": [
    {
     "output_type": "stream",
     "name": "stdout",
     "text": "35\n\n25.250000\n\nHello Pritam Let's learn Python\nPython tells \n Hello Pritam Let's learn Python !\n\nPython tells \nHello Pritam Let's learn Python !\n\n"
    }
   ],
   "source": [
    "a = input('Enter Your Name :') #scanf of python\n",
    "num1 = int(input('Enter Your Number :')) #taking integer input\n",
    "print('%d\\n'%(num1))\n",
    "num2 = float(input('Enter Your Number :')) #taking float input\n",
    "print('%f\\n'%(num2))\n",
    "'''\n",
    "Single quotation marks (' ') are used most frequently for strings Apostrophe, Quotation Marks and Ellipsis.\n",
    "Quotations marks (\" \") can be used limitation of Single quotation marks\n",
    "'''\n",
    "b1 = 'Hello' \n",
    "b2 = \"Let's learn Python\" \n",
    "print(b1,a,b2) \n",
    "print(\"Python tells \\n\",b1,a,b2,'!\\n') # ',' is used to give spaces in printing\n",
    "#               or \n",
    "print(\"Python tells \\n%s %s %s %s\" % (b1,a,b2,'!\\n')) #printf of python"
   ]
  },
  {
   "cell_type": "markdown",
   "metadata": {},
   "source": [
    "## Python Basic Operations\n",
    "'''\n",
    "### Operator precedence rule in Python  \n",
    "***Operators&nbsp;&nbsp;&nbsp;&nbsp;&nbsp;&nbsp;&nbsp;&nbsp;&nbspMeaning***\n",
    "<pre>\n",
    "()              Parentheses  \n",
    "**\t        Exponent  \n",
    "+x, -x, ~x\tUnary plus, Unary minus, Bitwise NOT  \n",
    "*, /, //, %\tMultiplication, Division, Floor division, Modulus  \n",
    "+, -\t        Addition, Subtraction  \n",
    "<<, >>\t        Bitwise shift operators  \n",
    "&\t        Bitwise AND  \n",
    "^\t        Bitwise XOR  \n",
    "|\t        Bitwise OR  \n",
    "==, !=, \n",
    ">, >=, <, <=,   \n",
    "is, is not,   \n",
    "in, not in\tComparisions, Identity, Membership operators  \n",
    "not\t        Logical NOT  \n",
    "and\t        Logical AND  \n",
    "or\t        Logical OR  \n",
    "</pre>"
   ]
  },
  {
   "cell_type": "code",
   "execution_count": 19,
   "metadata": {},
   "outputs": [
    {
     "output_type": "stream",
     "name": "stdout",
     "text": "5 * 2 = 10\n5 / 2 = 2.5\n5 + 2 = 7\n5 - 2 = 3\n5 % 2 = 1\n5 ** 2 = 25\n5 // 2 = 2\n1 + 2 - 3 * 2 = -3\n(1 + 2 - 3) * 2 = 0\n"
    }
   ],
   "source": [
    "print(\"5 * 2 =\",5 * 2)   #Mul\n",
    "print(\"5 / 2 =\",5 / 2)   #Div\n",
    "print(\"5 + 2 =\",5 + 2)   #Add\n",
    "print(\"5 - 2 =\",5 - 2)   #Sub\n",
    "print(\"5 % 2 =\",5 % 2)   #Mod\n",
    "print(\"5 ** 2 =\",5 ** 2)  #Pow\n",
    "print(\"5 // 2 =\",5 // 2)  #Int Div\n",
    "# Operator Precedence Example\n",
    "print(\"1 + 2 - 3 * 2 =\",1 + 2 - 3 * 2)\n",
    "print(\"(1 + 2 - 3) * 2 =\",(1 + 2 - 3) * 2)"
   ]
  },
  {
   "cell_type": "markdown",
   "metadata": {},
   "source": [
    "## Python List Operations  \n",
    "List is a collection which is ordered and changeable. Allows duplicate members."
   ]
  },
  {
   "cell_type": "code",
   "execution_count": 43,
   "metadata": {},
   "outputs": [
    {
     "output_type": "stream",
     "name": "stdout",
     "text": "['apple', 'banana', 'cherry', 'orange', 'kiwi', 'melon', 'mango']\napple\ncherry\nmango\napple\n['cherry', 'orange', 'kiwi']\n['apple', 'banana', 'cherry', 'orange']\n['cherry', 'orange', 'kiwi', 'melon', 'mango']\n['orange', 'kiwi', 'melon']\n[]\n['apple', 'blackcurrant', 'cherry', 'orange', 'kiwi', 'melon', 'mango']\n['apple', 'blackcurrant', 'grapes', 'cherry', 'orange', 'kiwi', 'melon', 'mango', 'orange']\n['apple', 'grapes', 'orange', 'kiwi', 'melon', 'mango']\n['apple', 'grapes', 'kiwi', 'mango', 'melon', 'orange']\n[['apple', 'grapes', 'kiwi', 'mango', 'melon', 'orange'], ['Wash Car', 'Water Plants', 'Wash Clothes']]\n['apple', 'grapes', 'kiwi', 'mango', 'melon', 'orange', 'Wash Car', 'Water Plants', 'Wash Clothes']\nWash Clothes\n9\norange\nWash Car\n"
    }
   ],
   "source": [
    "thislist = [\"apple\", \"banana\", \"cherry\", \"orange\", \"kiwi\", \"melon\", \"mango\"]\n",
    "other_events = ['Wash Car','Water Plants','Wash Clothes']\n",
    "# Range of a list starts from 0 to n\n",
    "# List index can be negative also which starts from -1 to -n \n",
    "# where -1 refers to the last item \n",
    "print(thislist) # printing the list\n",
    "print(thislist[0]) # 1st item of thislist\n",
    "print(thislist[2]) # 2nd item of thislist\n",
    "print(thislist[-1]) # last item of thislist\n",
    "print(thislist[-7]) # 1st item of thislist\n",
    "# printing in range\n",
    "print(thislist[2:5]) # The search will start at index 2 (included) and end at index 5 (not included).\n",
    "print(thislist[:4])\n",
    "print(thislist[2:])\n",
    "print(thislist[-4:-1]) # Range of Negative Indexes\n",
    "print(thislist[-1:-4]) # Invalid Range of Negative Indexes\n",
    "# changing list item value\n",
    "thislist[1] = \"blackcurrant\" # changing the 2nd value\n",
    "print(thislist)\n",
    "# adding item into a list\n",
    "thislist.append('orange') # adding new item to end of the list\n",
    "thislist.insert(2, \"grapes\") # adding new item to a position in the list\n",
    "print(thislist)\n",
    "# deleting an item\n",
    "thislist.remove(\"cherry\") # removes by name\n",
    "thislist.pop(1) # removes by index\n",
    "thislist.pop() # if no index specified removes from last\n",
    "print(thislist)\n",
    "# sort a list\n",
    "thislist.sort()\n",
    "print(thislist)\n",
    "# join two list\n",
    "to_do_list =[thislist,other_events] # put 2 List in one with lenth 2\n",
    "to_do_list1 =thislist + other_events # concatenates the two list with length if total list item\n",
    "print(to_do_list)\n",
    "print(to_do_list1)\n",
    "# accessing item in a joined list\n",
    "print(to_do_list[1][2])\n",
    "print(len(to_do_list1))\n",
    "print(max(to_do_list1))\n",
    "print(min(to_do_list1))"
   ]
  },
  {
   "cell_type": "markdown",
   "metadata": {},
   "source": [
    "## Python Tuple Operations  \n",
    "A tuple is a collection which is ordered and unchangeable.  \n",
    "In Python tuples are written with round brackets."
   ]
  },
  {
   "cell_type": "code",
   "execution_count": 47,
   "metadata": {},
   "outputs": [
    {
     "output_type": "stream",
     "name": "stdout",
     "text": "('apple', 'banana', 'cherry')\n('apple', 'kiwi', 'cherry')\n<class 'tuple'>\n<class 'str'>\n"
    }
   ],
   "source": [
    "thistuple = (\"apple\", \"banana\", \"cherry\")\n",
    "print(thistuple)\n",
    "# the adding item and printing ranges are same as Lists\n",
    "# Always remember Tuples are unchangeable or immutable.\n",
    "# it means we cannot changing value, add and delete an item in a tuple\n",
    "# we can only change value of a index by changing the tuple into list(read-only,cannot be editable) \n",
    "# making changes in the list and updating a tuple variable\n",
    "y = list(thistuple)\n",
    "y[1] = \"kiwi\"\n",
    "thistuple = tuple(y)\n",
    "print(thistuple) \n",
    "# One item tuple, remember the commma:\n",
    "thistuple = (\"apple\",)\n",
    "print(type(thistuple))\n",
    "# NOT a tuple\n",
    "thistuple = (\"apple\")\n",
    "print(type(thistuple))"
   ]
  },
  {
   "cell_type": "markdown",
   "metadata": {},
   "source": [
    "## Python Dictionary Operations  \n",
    "A dictionary is a collection which is unordered, changeable and indexed.  \n",
    "In Python dictionaries are written with curly brackets, and they have keys and values."
   ]
  },
  {
   "cell_type": "code",
   "execution_count": 54,
   "metadata": {},
   "outputs": [
    {
     "output_type": "stream",
     "name": "stdout",
     "text": "{'brand': 'Ford', 'model': 'Mustang', 'year': 1964}\nFord\n{'brand': 'Ford', 'model': 'Figo', 'color': 'red'}\n3\ndict_values(['Ford', 'Figo', 'red'])\ndict_keys(['brand', 'model', 'color'])\n{'child1': {'name': 'Emil', 'year': 2004}, 'child2': {'name': 'Tobias', 'year': 2007}, 'child3': {'name': 'Linus', 'year': 2011}}\n"
    }
   ],
   "source": [
    "thisdict = {\n",
    "  \"brand\": \"Ford\",\n",
    "  \"model\": \"Mustang\",\n",
    "  \"year\": 1964\n",
    "}\n",
    "print(thisdict)\n",
    "print(thisdict[\"brand\"])\n",
    "del thisdict[\"year\"] #deleting item in dictionary\n",
    "thisdict[\"model\"] = \"Figo\" #changing item in dictionary\n",
    "thisdict[\"color\"] = \"red\" #adding item to dictionary\n",
    "print(thisdict)\n",
    "print(len(thisdict)) #length of dictionary\n",
    "print(thisdict.values()) #getting the values of dictionary\n",
    "print(thisdict.keys())  #getting the keys of dictionary\n",
    "# nested dictionary like structure of C\n",
    "myfamily = {\n",
    "  \"child1\" : {\n",
    "    \"name\" : \"Emil\",\n",
    "    \"year\" : 2004\n",
    "  },\n",
    "  \"child2\" : {\n",
    "    \"name\" : \"Tobias\",\n",
    "    \"year\" : 2007\n",
    "  },\n",
    "  \"child3\" : {\n",
    "    \"name\" : \"Linus\",\n",
    "    \"year\" : 2011\n",
    "  }\n",
    "}\n",
    "print(myfamily)"
   ]
  },
  {
   "cell_type": "markdown",
   "metadata": {},
   "source": [
    "## Python If-Else Operations\n",
    "\n",
    "syntax :\n",
    "<pre>\n",
    "if expression1:\n",
    "   statement(s)\n",
    "elif expression2:\n",
    "   statement(s)\n",
    "elif expression3:\n",
    "   statement(s)\n",
    "else:\n",
    "   statement(s)\n",
    "</pre>\n",
    "Note : Always follow indentation instead of brackets for Conditional and Looping statement  \n",
    "Python supports the usual logical conditions from mathematics:  \n",
    "```\n",
    "Equals: a == b  \n",
    "Not Equals: a != b  \n",
    "Less than: a < b  \n",
    "Less than or equal to: a <= b  \n",
    "Greater than: a > b  \n",
    "Greater than or equal to: a >= b  \n",
    "AND : a and b  \n",
    "OR : a or b  \n",
    "```"
   ]
  },
  {
   "cell_type": "code",
   "execution_count": 56,
   "metadata": {},
   "outputs": [
    {
     "output_type": "stream",
     "name": "stdout",
     "text": "i is 20\nBoth conditions are True\nAt least one of the conditions is True\nAbove ten,\nand also above 20!\n"
    }
   ],
   "source": [
    "# Example 1\n",
    "i = 20\n",
    "if (i == 10):\n",
    "    print (\"i is 10\") \n",
    "elif (i == 15):\n",
    "    print (\"i is 15\") \n",
    "elif (i == 20):\n",
    "    print (\"i is 20\") \n",
    "else:\n",
    "    print (\"i is not present\") \n",
    "#Example 2 (And)\n",
    "a = 200\n",
    "b = 33\n",
    "c = 500\n",
    "if a > b and c > a:\n",
    "    print(\"Both conditions are True\")\n",
    "else:\n",
    "    print(\"None of the condition is True\")\n",
    "#Example 3 (Or)\n",
    "a = 200\n",
    "b = 33\n",
    "c = 500\n",
    "if a > b or a > c:\n",
    "    print(\"At least one of the conditions is True\")\n",
    "#Example 4 (Nested If-Else)\n",
    "x = 41\n",
    "if x > 10:\n",
    "    print(\"Above ten,\")\n",
    "    if x > 20:\n",
    "        print(\"and also above 20!\")\n",
    "    else:\n",
    "        print(\"but not above 20.\")"
   ]
  },
  {
   "cell_type": "markdown",
   "metadata": {},
   "source": [
    "## Python For Operations\n",
    "A for loop is used for iterating over a sequence   \n",
    "(that is either a list, a tuple, a dictionary, a set, or a string, or in a range)."
   ]
  },
  {
   "cell_type": "code",
   "execution_count": 66,
   "metadata": {},
   "outputs": [
    {
     "output_type": "stream",
     "name": "stdout",
     "text": "apple banana cherry 0 1 2 3 4 5 2 3 4 5 \n2 4 6 8 10 12 14 16 18 \napple \napple cherry"
    }
   ],
   "source": [
    "#Example 1 (in a list)\n",
    "fruits = [\"apple\", \"banana\", \"cherry\"]\n",
    "for x in fruits:\n",
    "  print(x, end =\" \")\n",
    "#Example 2 (in a range)\n",
    "for x in range(6): #is not the values of 0 to 6, but the values 0 to 5\n",
    "  print(x, end =\" \")\n",
    "for x in range(2, 6): #which means values from 2 to 6 (but not including 6):\n",
    "  print(x, end =\" \")\n",
    "else:\n",
    "    print() #printing new line when loop is completed\n",
    "for x in range(2, 20, 2): #specify the increment value by adding a third parameter\n",
    "  print(x, end =\" \")\n",
    "else:\n",
    "    print()\n",
    "# break statement\n",
    "for x in fruits:\n",
    "  if x == \"banana\":\n",
    "    break\n",
    "  print(x,end=\" \")\n",
    "# continue statement\n",
    "print()\n",
    "fruits = [\"apple\", \"banana\", \"cherry\"]\n",
    "for x in fruits:\n",
    "  if x == \"banana\":\n",
    "    continue\n",
    "  print(x,end=\" \")"
   ]
  },
  {
   "cell_type": "markdown",
   "metadata": {},
   "source": [
    "## Python Random Number and While Operations\n",
    "With the while loop we can execute a set of statements as long as a condition is true."
   ]
  },
  {
   "cell_type": "code",
   "execution_count": 3,
   "metadata": {},
   "outputs": [
    {
     "output_type": "stream",
     "name": "stdout",
     "text": "9 8 1 3 2 3 \n5\n4\n3\nLoop ended.\n"
    }
   ],
   "source": [
    "import random\n",
    "#Example 1\n",
    "rand_num = random.randrange(0,10)\n",
    "while rand_num != 5:\n",
    "    print(rand_num,end=\" \")\n",
    "    rand_num = random.randrange(0,10)\n",
    "#Example 2\n",
    "n = 5\n",
    "print()\n",
    "while n > 0:\n",
    "    if n == 2:\n",
    "        break\n",
    "    print(n)\n",
    "    n -= 1      # Increment in Python a += 1 Decrement in Python a -= 1\n",
    "print('Loop ended.')"
   ]
  },
  {
   "cell_type": "markdown",
   "metadata": {},
   "source": [
    "## Python Functions  \n",
    "Syntax of Function :  \n",
    "<pre>\n",
    "def function_name(parameters):\n",
    "    \"\"\"docstring\"\"\" #we'll come back to this later\n",
    "\tstatement(s)\n",
    "    \n",
    "//calling a funtion\n",
    "function_name(parameters)\n",
    "</pre>"
   ]
  },
  {
   "cell_type": "code",
   "execution_count": 4,
   "metadata": {},
   "outputs": [
    {
     "output_type": "stream",
     "name": "stdout",
     "text": "5\nThis function returns the summed\n    value of the entered numbers\n"
    }
   ],
   "source": [
    "def addNum(fNum,lNum):\n",
    "    \"\"\"This function returns the summed\n",
    "    value of the entered numbers\"\"\"\n",
    "    sumNum = fNum + lNum\n",
    "    return sumNum\n",
    "\n",
    "print(addNum(2,3))\n",
    "#The first string after the function header is called the docstring and is short for documentation string.\n",
    "print(addNum.__doc__)"
   ]
  },
  {
   "cell_type": "markdown",
   "metadata": {},
   "source": [
    "## Python String Operations"
   ]
  },
  {
   "cell_type": "code",
   "execution_count": 17,
   "metadata": {},
   "outputs": [
    {
     "output_type": "stream",
     "name": "stdout",
     "text": "If you ever find yourself stuck in the middle of the sea, I'll sail the world to find you\nIf yo\nd you\nIf you ever find yourself stuck in the middle of the sea, I'll sail the world to fin\nIf you ever find yourself stuck in the middle of the sea, I'll sail the world to find yo If you ever find yourself lost in the dark and you can't see,\ni'm trying to strike a balance between Bollywood and Hollywood. ~ Irrfan Khan\nI'm trying to strike a balance between bollywood and hollywood. ~ irrfan khan\n31\nFalse\nFalse\ni'm trying to strike a balance between Indian Cinema and Hollywood. ~ Irrfan Khan\ni'm trying to strike a balance between Bollywood and Hollywood. ~ Irrfan Khan\n[\"i'm\", 'trying', 'to', 'strike', 'a', 'balance', 'between', 'Bollywood', 'and', 'Hollywood.', '~', 'Irrfan', 'Khan']\n"
    }
   ],
   "source": [
    "thisString = \"If you ever find yourself stuck in the middle of the sea, I'll sail the world to find you\"\n",
    "#range of the string same as list and tuple\n",
    "print(thisString)\n",
    "print(thisString[0:5])\n",
    "print(thisString[-5:])\n",
    "print(thisString[:-5])\n",
    "#add to a string\n",
    "print(thisString[:-1],\"If you ever find yourself lost in the dark and you can't see,\")\n",
    "thisString1 = \"i'm trying to strike a balance between Bollywood and Hollywood. ~ Irrfan Khan\"\n",
    "print(thisString1)\n",
    "print(thisString1.capitalize())\n",
    "print(thisString1.find(\"between\"))\n",
    "print(thisString1.isalpha())\n",
    "print(thisString1.isalnum())\n",
    "print(thisString1.replace('Bollywood','Indian Cinema'))\n",
    "print(thisString1.strip())\n",
    "quote_list= thisString1.split(\" \")\n",
    "print(quote_list)"
   ]
  },
  {
   "cell_type": "markdown",
   "metadata": {},
   "source": [
    "## OOPS in Python"
   ]
  },
  {
   "cell_type": "code",
   "execution_count": 32,
   "metadata": {},
   "outputs": [
    {
     "output_type": "stream",
     "name": "stdout",
     "text": "Whiskers is 33 cm tall and 10 kilogram and say Meow\nSpot is 53 cm tall and 27 kilogram and say Ruff his owner is Pritam \nAnimals\nDog\nRuff\nRuffRuffRuff\n"
    }
   ],
   "source": [
    "#making a class\n",
    "class animals:\n",
    "    #defining attributes\n",
    "    __name = \"\"\n",
    "    __height = 0\n",
    "    __weight = 0\n",
    "    __sound = 0\n",
    "    #Make the constructor \n",
    "    def __init__(self, name, height, weight, sound):\n",
    "        self.__name=name\n",
    "        self.__height=height\n",
    "        self.__weight=weight\n",
    "        self.__sound=sound\n",
    "    #Making getters and setter\n",
    "    #self is used as a parameter to refer to the object animal\n",
    "    def set_name(self, name):\n",
    "        self.__name = name\n",
    "    def get_name(self):\n",
    "        return self.__name\n",
    "\n",
    "    def set_height(self, height):\n",
    "        self.__height = height\n",
    "    def get_height(self):\n",
    "        return self.__height\n",
    "\n",
    "    def set_weight(self, weight):\n",
    "        self.__weight = weight\n",
    "    def get_weight(self):\n",
    "        return self.__weight\n",
    "    \n",
    "    def set_sound(self, sound):\n",
    "        self.__sound = sound\n",
    "    def get_sound(self):\n",
    "        return self.__sound\n",
    "    \n",
    "    def get_type(self):\n",
    "        print('Animals')\n",
    "    \n",
    "    def toString(self):\n",
    "        return \"{} is {} cm tall and {} kilogram and say {}\".format(self.__name,\n",
    "        self.__height,\n",
    "        self.__weight,\n",
    "        self.__sound)\n",
    "\n",
    "#create object cat using animal class\n",
    "cat = animals('Whiskers', 33, 10, 'Meow')\n",
    "print(cat.toString())\n",
    "\n",
    "#Making Class Inheritence\n",
    "class dog(animals):\n",
    "    __owner = \"\"\n",
    "\n",
    "    def __init__(self, name, height, weight, sound, owner):\n",
    "        self.__owner = owner\n",
    "        super(dog,self).__init__(name, height, weight, sound)\n",
    "    \n",
    "    def set_owner(self, owner):\n",
    "        self.__owner = owner\n",
    "    def get_owner(self):\n",
    "        return self.__owner\n",
    "    \n",
    "    def get_type(self):\n",
    "        print('Dog')\n",
    "    \n",
    "    def toString(self):\n",
    "        return \"{} is {} cm tall and {} kilogram and say {} his owner is {} \".format(self._animals__name,\n",
    "        self._animals__height,\n",
    "        self._animals__weight,\n",
    "        self._animals__sound,\n",
    "        self.__owner)\n",
    "    #method overloding\n",
    "    def multiple_sound(self, how_many=None):\n",
    "        if(how_many==None):print(self.get_sound())\n",
    "        else:print(self.get_sound()*how_many)\n",
    "\n",
    "#calling class dog\n",
    "spot = dog('Spot', 53, 27, 'Ruff', 'Pritam')\n",
    "print(spot.toString())\n",
    "\n",
    "#making a type class Polymorphism\n",
    "class animalTesting:\n",
    "    def get_type(self,animal):\n",
    "        animal.get_type()\n",
    "\n",
    "#we create an object\n",
    "testAnimal = animalTesting()\n",
    "\n",
    "testAnimal.get_type(cat)\n",
    "testAnimal.get_type(spot)\n",
    "\n",
    "spot.multiple_sound()\n",
    "spot.multiple_sound(3)\n"
   ]
  },
  {
   "cell_type": "markdown",
   "metadata": {},
   "source": [
    "## Python Try Except\n",
    "Exception Handling  \n",
    "When an error occurs, or exception as we call it, Python will normally stop and generate an error message.  \n",
    "Similar to try catch in Java    "
   ]
  },
  {
   "cell_type": "code",
   "execution_count": 57,
   "metadata": {},
   "outputs": [
    {
     "output_type": "stream",
     "name": "stdout",
     "text": "An exception occurred\nSomething went wrong\nThe 'try except' is finished\n"
    },
    {
     "output_type": "error",
     "ename": "Exception",
     "evalue": "Sorry, no numbers below zero",
     "traceback": [
      "\u001b[1;31m---------------------------------------------------------------------------\u001b[0m",
      "\u001b[1;31mException\u001b[0m                                 Traceback (most recent call last)",
      "\u001b[1;32m<ipython-input-57-46ccda7d1409>\u001b[0m in \u001b[0;36m<module>\u001b[1;34m\u001b[0m\n\u001b[0;32m     23\u001b[0m \u001b[0mz\u001b[0m \u001b[1;33m=\u001b[0m \u001b[1;33m-\u001b[0m\u001b[1;36m1\u001b[0m\u001b[1;33m\u001b[0m\u001b[1;33m\u001b[0m\u001b[0m\n\u001b[0;32m     24\u001b[0m \u001b[1;32mif\u001b[0m \u001b[0mz\u001b[0m \u001b[1;33m<\u001b[0m \u001b[1;36m0\u001b[0m\u001b[1;33m:\u001b[0m\u001b[1;33m\u001b[0m\u001b[1;33m\u001b[0m\u001b[0m\n\u001b[1;32m---> 25\u001b[1;33m   \u001b[1;32mraise\u001b[0m \u001b[0mException\u001b[0m\u001b[1;33m(\u001b[0m\u001b[1;34m\"Sorry, no numbers below zero\"\u001b[0m\u001b[1;33m)\u001b[0m\u001b[1;33m\u001b[0m\u001b[1;33m\u001b[0m\u001b[0m\n\u001b[0m",
      "\u001b[1;31mException\u001b[0m: Sorry, no numbers below zero"
     ]
    }
   ],
   "source": [
    "#Example\n",
    "try:\n",
    "  print(x)\n",
    "except:\n",
    "  print(\"An exception occurred\")\n",
    "\n",
    "#Example2\n",
    "#The finally block, if specified, will be executed regardless if the try block raises an error or not.\n",
    "try:\n",
    "  print(x)\n",
    "except:\n",
    "  print(\"Something went wrong\")\n",
    "finally:\n",
    "  print(\"The 'try except' is finished\")\n",
    "#Example3\n",
    "#Raise an Exception\n",
    "z = -1\n",
    "if z < 0:\n",
    "  raise Exception(\"Sorry, no numbers below zero\")"
   ]
  },
  {
   "cell_type": "markdown",
   "metadata": {},
   "source": [
    "\n",
    "## What is PIP?\n",
    "**PIP is a package manager for Python packages, or modules if you like.  \n",
    "Steps to install pip like NumPy, MatPlotLib, Pandas** \n",
    "```\n",
    "Step 1:\n",
    "Windows -- Ctrl + R >> Type 'cmd' >> Enter\n",
    "Linux & Mac --Ctrl + Alt + T\n",
    "Step 2:\n",
    "Windows -- Type python >> Enter (Uninstall any obselete version of Python 2.X)\n",
    "Linux & Mac -- if Possible Enter into specific environment for conda or type in terminal python >> enter\n",
    "Step 3:\n",
    "Find packages at https://pypi.org/ and copy the pip >> paste it in python shell >> Enter\n",
    "Note : You should have Active Internet Connection\n",
    "\n",
    "PIP will be required when you are further studying for Data Sciences and Machine Learning\n",
    "```"
   ]
  },
  {
   "cell_type": "markdown",
   "metadata": {},
   "source": [
    "*'''\n",
    "File Handling in python\n",
    "Note : Better to perform in Editor like Spyder or PyCharm\n",
    "'''*\n",
    "```\n",
    "#opening a file\n",
    "test_file = open(\"D:\\python_projects\\test.txt\",\"wb\")\n",
    "print(test_file.mode)\n",
    "print(test_file.name)\n",
    "test_file.write(bytes(\"Write me to the File\\n\",'UTF-8'))\n",
    "test_file.close()\n",
    "test_file.open(\"D:\\python_projects\\test.txt\",\"r+\")\n",
    "text_in_file=test_file.read()\n",
    "print(text_in_file)\n",
    "```"
   ]
  }
 ],
 "metadata": {
  "language_info": {
   "codemirror_mode": {
    "name": "ipython",
    "version": 3
   },
   "file_extension": ".py",
   "mimetype": "text/x-python",
   "name": "python",
   "nbconvert_exporter": "python",
   "pygments_lexer": "ipython3",
   "version": "3.7.4-final"
  },
  "orig_nbformat": 2,
  "kernelspec": {
   "name": "python3",
   "display_name": "Python 3"
  }
 },
 "nbformat": 4,
 "nbformat_minor": 2
}