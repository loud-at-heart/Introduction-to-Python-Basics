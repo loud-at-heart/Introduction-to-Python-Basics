{
 "cells": [
  {
   "cell_type": "markdown",
   "metadata": {},
   "source": [
    "# *Workspace*  \n",
    "**Here we will perform all the Python Codes for the session.  \n",
    "'```+```' button to insert new cell  \n",
    "Jupyter Notebook supports a type of writing language called Markdown. It is a simple way of creating nice looking documents with a small number of commands to remember. This language is particularly good for typesetting mathematical equations, which is our main reason for using it.  \n",
    "```ESC + m``` to insert a Mark Down  \n",
    "**\n",
    "### *So let's get Started with Python Programming*"
   ]
  },
  {
   "cell_type": "code",
   "execution_count": 1,
   "metadata": {},
   "outputs": [
    {
     "output_type": "stream",
     "name": "stdout",
     "text": "Hello World!\n"
    }
   ],
   "source": [
    "'''\n",
    "The Shree Ganesh to every Programming Language\n",
    "'''\n",
    "print('Hello World!')"
   ]
  }
 ],
 "metadata": {
  "language_info": {
   "codemirror_mode": {
    "name": "ipython",
    "version": 3
   },
   "file_extension": ".py",
   "mimetype": "text/x-python",
   "name": "python",
   "nbconvert_exporter": "python",
   "pygments_lexer": "ipython3",
   "version": "3.7.4-final"
  },
  "orig_nbformat": 2,
  "kernelspec": {
   "name": "python3",
   "display_name": "Python 3"
  }
 },
 "nbformat": 4,
 "nbformat_minor": 2
}